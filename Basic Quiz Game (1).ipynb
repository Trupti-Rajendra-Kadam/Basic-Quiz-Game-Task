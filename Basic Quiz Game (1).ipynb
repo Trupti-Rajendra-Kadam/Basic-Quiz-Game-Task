{
 "cells": [
  {
   "cell_type": "markdown",
   "id": "022cfd5d",
   "metadata": {},
   "source": [
    "# Basic Quiz Game"
   ]
  },
  {
   "cell_type": "markdown",
   "id": "dba2c53e",
   "metadata": {},
   "source": [
    "Question X\n",
    "Consider the following experiment:\n",
    "\n",
    "A normally-balanced die (with six faces) is thrown 10,000 times. Among these 10,000 throws, 1,000 are taken at random.\n",
    "\n",
    "We carry out this experiment five times, and we write down m, the average number of times we get the number six out of the 10,000 throws, and n, the average number of times we get the number four in the subsample.\n",
    "\n",
    "What would be the values of m and n at the end of this experiment?"
   ]
  },
  {
   "cell_type": "code",
   "execution_count": 2,
   "id": "2ef58c3e",
   "metadata": {},
   "outputs": [
    {
     "name": "stdout",
     "output_type": "stream",
     "text": [
      "0.16472\n",
      "0.1666\n"
     ]
    }
   ],
   "source": [
    "import random\n",
    "nExp = 5 #amount of times required to repeat the experiment\n",
    "nDiceThrow = 10000\n",
    "nsubsample = 1000\n",
    "diceFaces = [\"one\",\"two\",\"three\",\"four\",\"five\",\"six\"]\n",
    "mexperiment = [] #list to storage the average of \"six\" obtained on each experiment\n",
    "nexperiment = [] #list to storage the average of \"four\" obtained on each experiment\n",
    "for ia in range(nExp):\n",
    "  Xsample = [] #list to storage results for the nDiceThrow\n",
    "  for ib in range(nDiceThrow):\n",
    "    Xsample.append(random.choice(diceFaces))\n",
    "  mcount = Xsample.count(\"six\")\n",
    "  m = float(mcount / nDiceThrow)\n",
    "  mexperiment.append(m)\n",
    "  Xsubsample = random.sample(Xsample, nsubsample)\n",
    "  ncount = Xsubsample.count(\"four\")\n",
    "  n = float(ncount / nsubsample)\n",
    "  nexperiment.append(n)\n",
    "print(sum(mexperiment)/len(mexperiment))\n",
    "print(sum(nexperiment)/len(nexperiment))"
   ]
  },
  {
   "cell_type": "markdown",
   "id": "6b393f77",
   "metadata": {},
   "source": [
    "Question Y\n",
    "Let's consider two games of chance:\n",
    "\n",
    "The next two questions will be based on these two sets\n",
    "\n",
    "First, a game that we will call A, which is a simple coin flip with a biased coin (tails with a probability of p=0.49). The player bets one dollar and flips the coin: if they get tails, they win one dollar and recoup their bet, otherwise they lose their bet. Then, a game that we will call B, which is a game with two biased coins. The first coin gives tails with probability p1 = 0.09 and the second coin gives tails with probability p2 = 0.74. The player can only bet one dollar at a time! However, at each flip, we look at the player's total amount of money to determine which coin to flip: if the amount is a multiple of three, we flip the first coin, otherwise we flip the second coin. As in game A, the player recoups their bet plus an extra dollar if the chosen coin lands on tails, otherwise they lose their bet. A game is considered won when a player finishes with more money than they started with after playing a large number of rounds (e.g., several hundred). Implement these two games of chance with Python, using the libraries seen earlier, considering that the player starts with a capital of $1,000.\n",
    "\n",
    "Which of the following statements is true?\n",
    "\n",
    "Game A is a loser while Game B is a winner.\n",
    "Both games are winners.\n",
    "Both games are losers.\n",
    "We cannot determine from the information given."
   ]
  },
  {
   "cell_type": "code",
   "execution_count": 3,
   "id": "3fd44a15",
   "metadata": {},
   "outputs": [],
   "source": [
    "#Establishing the basic function of the game, coin flip with variable probability (prob)\n",
    "def flip(prob):\n",
    "  ran = random.random()\n",
    "  return 'T' if ran <= prob else 'H'"
   ]
  },
  {
   "cell_type": "code",
   "execution_count": 4,
   "id": "e0646251",
   "metadata": {},
   "outputs": [
    {
     "name": "stdout",
     "output_type": "stream",
     "text": [
      "Loss\n",
      "-1264\n"
     ]
    }
   ],
   "source": [
    "#Game A\n",
    "nA = 100000\n",
    "MoneyA = 1000\n",
    "for i in range(nA):\n",
    "  if flip(0.49) == \"T\":\n",
    "    MoneyA += 1\n",
    "  else:\n",
    "    MoneyA -= 1\n",
    "if MoneyA > 1000:\n",
    "  print(\"Win\")\n",
    "else:\n",
    "  print(\"Loss\")\n",
    "print(MoneyA)"
   ]
  },
  {
   "cell_type": "code",
   "execution_count": 5,
   "id": "9146d856",
   "metadata": {},
   "outputs": [
    {
     "name": "stdout",
     "output_type": "stream",
     "text": [
      "Loss\n"
     ]
    }
   ],
   "source": [
    "#Game B\n",
    "nB = 100000\n",
    "MoneyB = 1000\n",
    "p1=0.09\n",
    "p2=0.74\n",
    "for i in range(nB):\n",
    "  if MoneyB % 3 == 0: #Condition to flip the coin with probability p1 (0.09) if the amount of money on hand is multiple of 3\n",
    "    pb = p1\n",
    "  else:               #Otherwise, flip the coin with probability p2 (0.74) if the amount of money on hand is not multiple of 3\n",
    "    pb = p2\n",
    "  if flip(pb) == \"T\": \n",
    "    MoneyB += 1\n",
    "  else:\n",
    "    MoneyB -= 1\n",
    "  \n",
    "if MoneyB > 1000:\n",
    "  print(\"Win\")\n",
    "else:\n",
    "  print(\"Loss\")"
   ]
  },
  {
   "cell_type": "markdown",
   "id": "bf21c21f",
   "metadata": {},
   "source": [
    "Question Z\n",
    "We will now mix the two games presented in the previous question! Effectively, at each turn, we now flip a coin which is balanced! If you have tails, you play game A, otherwise you play game B.\n",
    "\n",
    "It is assumed that the player has $1,000 as starting capital.\n",
    "\n",
    "After playing 1,000,000 games, what is the status of the game, from the player's point of view?\n",
    "\n",
    "The game is won."
   ]
  },
  {
   "cell_type": "code",
   "execution_count": 7,
   "id": "6ec24d24",
   "metadata": {},
   "outputs": [
    {
     "name": "stdout",
     "output_type": "stream",
     "text": [
      "Win\n",
      "6462\n"
     ]
    }
   ],
   "source": [
    "nCOp = 1000000\n",
    "MoneyCOp = 1000\n",
    "pCB1=0.09\n",
    "pCB2=0.74\n",
    "pCA3=0.49\n",
    "for i in range(nCOp):\n",
    "  flips = [flip(0.5)]\n",
    "  if flips.count('T') == 0:\n",
    "    if MoneyCOp % 3 == 0:\n",
    "      pCOp = pCB1\n",
    "    else:\n",
    "      pCOp = pCB2\n",
    "  else:\n",
    "    pCOp = pCA3\n",
    "  if flip(pCOp) == \"T\":\n",
    "    MoneyCOp += 1\n",
    "  else:\n",
    "    MoneyCOp -= 1\n",
    "if MoneyCOp > 1000:\n",
    "  print(\"Win\")\n",
    "else:\n",
    "  print(\"Loss\")\n",
    "print(MoneyCOp)\n"
   ]
  },
  {
   "cell_type": "code",
   "execution_count": null,
   "id": "2c14198f",
   "metadata": {},
   "outputs": [],
   "source": []
  }
 ],
 "metadata": {
  "kernelspec": {
   "display_name": "Python 3 (ipykernel)",
   "language": "python",
   "name": "python3"
  },
  "language_info": {
   "codemirror_mode": {
    "name": "ipython",
    "version": 3
   },
   "file_extension": ".py",
   "mimetype": "text/x-python",
   "name": "python",
   "nbconvert_exporter": "python",
   "pygments_lexer": "ipython3",
   "version": "3.9.7"
  }
 },
 "nbformat": 4,
 "nbformat_minor": 5
}
